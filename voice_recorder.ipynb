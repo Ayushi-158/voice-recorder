{
 "cells": [
  {
   "cell_type": "code",
   "execution_count": 6,
   "id": "0bbaba58",
   "metadata": {},
   "outputs": [
    {
     "name": "stdout",
     "output_type": "stream",
     "text": [
      "Collecting sounddevice\n",
      "  Using cached sounddevice-0.4.5-py3-none-win_amd64.whl (195 kB)\n",
      "Requirement already satisfied: CFFI>=1.0 in c:\\users\\hp\\anaconda3\\lib\\site-packages (from sounddevice) (1.15.0)\n",
      "Requirement already satisfied: pycparser in c:\\users\\hp\\anaconda3\\lib\\site-packages (from CFFI>=1.0->sounddevice) (2.21)\n",
      "Installing collected packages: sounddevice\n",
      "Successfully installed sounddevice-0.4.5\n",
      "Requirement already satisfied: scipy in c:\\users\\hp\\anaconda3\\lib\\site-packages (1.7.3)\n",
      "Requirement already satisfied: numpy<1.23.0,>=1.16.5 in c:\\users\\hp\\anaconda3\\lib\\site-packages (from scipy) (1.21.5)\n",
      "Collecting wavio\n",
      "  Downloading wavio-0.0.4-py2.py3-none-any.whl (9.0 kB)\n",
      "Requirement already satisfied: numpy>=1.6.0 in c:\\users\\hp\\anaconda3\\lib\\site-packages (from wavio) (1.21.5)\n",
      "Installing collected packages: wavio\n",
      "Successfully installed wavio-0.0.4\n"
     ]
    }
   ],
   "source": [
    "!pip install sounddevice\n",
    "!pip install scipy\n",
    "!pip install wavio"
   ]
  },
  {
   "cell_type": "code",
   "execution_count": 8,
   "id": "d006bab4",
   "metadata": {},
   "outputs": [],
   "source": [
    "\n",
    "# import required libraries\n",
    "import sounddevice as sd\n",
    "from scipy.io.wavfile import write\n",
    "import wavio as wv\n",
    "# Sampling frequency\n",
    "freq = 44100\n",
    "  \n",
    "# Recording duration\n",
    "duration = 5\n",
    "  \n",
    "# Start recorder with the given values \n",
    "# of duration and sample frequency\n",
    "recording = sd.rec(int(duration * freq), \n",
    "                   samplerate=freq, channels=2)\n",
    "  \n",
    "# Record audio for the given number of seconds\n",
    "sd.wait()\n",
    "  \n",
    "# This will convert the NumPy array to an audio\n",
    "# file with the given sampling frequency\n",
    "write(\"recording0.wav\", freq, recording)\n",
    "  \n",
    "# Convert the NumPy array to audio file\n",
    "wv.write(\"recording1.wav\", recording, freq, sampwidth=2)"
   ]
  },
  {
   "cell_type": "code",
   "execution_count": null,
   "id": "a2481b51",
   "metadata": {},
   "outputs": [],
   "source": []
  }
 ],
 "metadata": {
  "kernelspec": {
   "display_name": "Python 3 (ipykernel)",
   "language": "python",
   "name": "python3"
  },
  "language_info": {
   "codemirror_mode": {
    "name": "ipython",
    "version": 3
   },
   "file_extension": ".py",
   "mimetype": "text/x-python",
   "name": "python",
   "nbconvert_exporter": "python",
   "pygments_lexer": "ipython3",
   "version": "3.9.12"
  }
 },
 "nbformat": 4,
 "nbformat_minor": 5
}
